{
 "cells": [
  {
   "cell_type": "code",
   "execution_count": 30,
   "metadata": {},
   "outputs": [],
   "source": [
    "import matplotlib.pyplot as plt\n",
    "import pandas as pd\n",
    "import numpy as np\n",
    "from scipy import interpolate"
   ]
  },
  {
   "cell_type": "markdown",
   "metadata": {},
   "source": [
    "# class Particle\n",
    "\n",
    "*The Particle object represents a particles with id given by:*\n",
    "\n",
    "|QUARKS|no|LEPTONS|no|GAUGE AND HIGGS BOSONS|no|\n",
    "|------|---|------|----|--|--|\n",
    "|d| 1|$e^-$|11|$g$|(9)21|\n",
    "|u| 2|$\\nu_e$|12|$\\gamma$|22|\n",
    "|s| 3|$\\mu^-$|13|$Z^0$|23|\n",
    "|c| 4|$\\nu_\\mu$|14|$W^+$|24|\n",
    "|b| 5|$\\tau^-$|15|$H^0$|25|\n",
    "|t| 6|$\\nu_\\tau$|16|||\n"
   ]
  },
  {
   "cell_type": "markdown",
   "metadata": {},
   "source": [
    "# class QCD\n",
    "\n",
    "*This class includes pdf and splitting functions.*\n"
   ]
  },
  {
   "cell_type": "markdown",
   "metadata": {},
   "source": [
    "## $\\alpha_s$"
   ]
  },
  {
   "cell_type": "code",
   "execution_count": 76,
   "metadata": {},
   "outputs": [],
   "source": [
    "import sympy as sp\n",
    "from sympy import I, pi, oo\n",
    "sp.init_printing()"
   ]
  },
  {
   "cell_type": "code",
   "execution_count": 94,
   "metadata": {},
   "outputs": [
    {
     "data": {
      "image/png": "[encoded data removed]",
      "text/latex": [
       "$\\displaystyle \\left( Q^{2}, \\  Q^{2}_{0}, \\  b_{0}, \\  b_{1}, \\  C_{A}, \\  C_{F}\\right)$"
      ],
      "text/plain": [
       "(Q², Q²₀, b₀, b₁, C_A, C_F)"
      ]
     },
     "execution_count": 94,
     "metadata": {},
     "output_type": "execute_result"
    }
   ],
   "source": [
    "Q2, x, Q02, b0, b1, CA, CF = sp.symbols('Q^2, x, Q_0^2 b_0, b_1, C_A, C_F')\n",
    "Q2, Q02, b0, b1, CA, CF"
   ]
  },
  {
   "cell_type": "code",
   "execution_count": 109,
   "metadata": {},
   "outputs": [
    {
     "data": {
      "image/png": "[encoded data removed]",
      "text/latex": [
       "$\\displaystyle \\left( a_{s}({Q_0^2}), \\  a_{s}({Q^2})\\right)$"
      ],
      "text/plain": [
       "(a_{s}({Q_0__2}), a_{s}({Q__2}))"
      ]
     },
     "execution_count": 109,
     "metadata": {},
     "output_type": "execute_result"
    }
   ],
   "source": [
    "a0, a = sp.symbols('a_{s}({Q_0^2}), a_{s}({Q^2})')\n",
    "a0, a"
   ]
  },
  {
   "cell_type": "code",
   "execution_count": 111,
   "metadata": {},
   "outputs": [
    {
     "data": {
      "image/png": "[encoded data removed]",
      "text/latex": [
       "$\\displaystyle - \\frac{1}{x^{2} \\left(b_{0} + b_{1} x\\right)}$"
      ],
      "text/plain": [
       "     -1       \n",
       "──────────────\n",
       " 2            \n",
       "x ⋅(b₀ + b₁⋅x)"
      ]
     },
     "execution_count": 111,
     "metadata": {},
     "output_type": "execute_result"
    }
   ],
   "source": [
    "-1/(x**2*(b0 + b1*x))"
   ]
  },
  {
   "cell_type": "code",
   "execution_count": 113,
   "metadata": {},
   "outputs": [
    {
     "data": {
      "image/png": "[encoded data removed]",
      "text/latex": [
       "$\\displaystyle - \\frac{b_{1} \\left(- \\log{\\left(a_{s}({Q^2}) \\right)} + \\log{\\left(a_{s}({Q^2}) + \\frac{b_{0}}{b_{1}} \\right)}\\right)}{b_{0}^{2}} + \\frac{b_{1} \\left(- \\log{\\left(a_{s}({Q_0^2}) \\right)} + \\log{\\left(a_{s}({Q_0^2}) + \\frac{b_{0}}{b_{1}} \\right)}\\right)}{b_{0}^{2}} - \\frac{1}{a_{s}({Q_0^2}) b_{0}} + \\frac{1}{a_{s}({Q^2}) b_{0}}$"
      ],
      "text/plain": [
       "     ⎛                         ⎛                b₀⎞⎞      ⎛                   \n",
       "  b₁⋅⎜-log(a_{s}({Q__2})) + log⎜a_{s}({Q__2}) + ──⎟⎟   b₁⋅⎜-log(a_{s}({Q_0__2}\n",
       "     ⎝                         ⎝                b₁⎠⎠      ⎝                   \n",
       "- ────────────────────────────────────────────────── + ───────────────────────\n",
       "                           2                                                  \n",
       "                         b₀                                                   \n",
       "\n",
       "        ⎛                  b₀⎞⎞                                        \n",
       ")) + log⎜a_{s}({Q_0__2}) + ──⎟⎟                                        \n",
       "        ⎝                  b₁⎠⎠           1                   1        \n",
       "─────────────────────────────── - ────────────────── + ────────────────\n",
       "    2                             a_{s}({Q_0__2})⋅b₀   a_{s}({Q__2})⋅b₀\n",
       "  b₀                                                                   "
      ]
     },
     "execution_count": 113,
     "metadata": {},
     "output_type": "execute_result"
    }
   ],
   "source": [
    "sp.integrate(-1/(x**2*(b0 + b1*x)), (x, a0, a))"
   ]
  },
  {
   "cell_type": "code",
   "execution_count": 69,
   "metadata": {},
   "outputs": [
    {
     "name": "stdout",
     "output_type": "stream",
     "text": [
      "0.6100939485189322\n",
      "0.24485952713564962\n"
     ]
    }
   ],
   "source": [
    "N_c = 3.0\n",
    "C_A = N_c\n",
    "n_f = 5\n",
    "C_F = (N_c*N_c-1)/(2.0*N_c)\n",
    "b0 = (11.0*C_A - 2.0*n_f)/(12.0*np.pi)\n",
    "b1 = (17.0*C_A**2 - 5.0*C_A*n_f - 3.0*C_F*n_f)/(24.0*np.pi**2)\n",
    "print(b0)\n",
    "print(b1)"
   ]
  },
  {
   "cell_type": "code",
   "execution_count": 47,
   "metadata": {},
   "outputs": [
    {
     "data": {
      "text/plain": [
       "<matplotlib.axes._subplots.AxesSubplot at 0x1214afac8>"
      ]
     },
     "execution_count": 47,
     "metadata": {},
     "output_type": "execute_result"
    },
    {
     "data": {
      "image/png": "[encoded data removed]",
      "text/plain": [
       "<Figure size 432x288 with 1 Axes>"
      ]
     },
     "metadata": {
      "needs_background": "light"
     },
     "output_type": "display_data"
    }
   ],
   "source": [
    "alphas_df = pd.read_csv('alphas.csv')\n",
    "alphas_df = alphas_df.set_index('$Q$[GeV]')\n",
    "alphas = interpolate.interp1d(alphas_df.index, alphas_df[r'$\\alpha_s(Q)$'])\n",
    "\n",
    "alphas_df.plot(logx=True)"
   ]
  },
  {
   "cell_type": "code",
   "execution_count": 62,
   "metadata": {},
   "outputs": [
    {
     "data": {
      "text/plain": [
       "array(0.95798)"
      ]
     },
     "execution_count": 62,
     "metadata": {},
     "output_type": "execute_result"
    }
   ],
   "source": [
    "alphas(0.3)"
   ]
  },
  {
   "cell_type": "code",
   "execution_count": 66,
   "metadata": {},
   "outputs": [
    {
     "data": {
      "text/plain": [
       "array(0.4405)"
      ]
     },
     "execution_count": 66,
     "metadata": {},
     "output_type": "execute_result"
    }
   ],
   "source": [
    "alphas(1.0)"
   ]
  },
  {
   "cell_type": "code",
   "execution_count": 67,
   "metadata": {},
   "outputs": [
    {
     "data": {
      "text/plain": [
       "array(0.30426603)"
      ]
     },
     "execution_count": 67,
     "metadata": {},
     "output_type": "execute_result"
    }
   ],
   "source": [
    "alphas(2.0)"
   ]
  },
  {
   "cell_type": "markdown",
   "metadata": {},
   "source": [
    "## PDFs"
   ]
  },
  {
   "cell_type": "code",
   "execution_count": 3,
   "metadata": {},
   "outputs": [],
   "source": [
    "def plot(url, width='100%', height=500):\n",
    "    \"\"\"Return an IFrame plot\"\"\"\n",
    "    from IPython.display import IFrame\n",
    "    return IFrame(url, width=width, height=height) "
   ]
  },
  {
   "cell_type": "code",
   "execution_count": 16,
   "metadata": {},
   "outputs": [
    {
     "data": {
      "text/html": [
       "\n",
       "        <iframe\n",
       "            width=\"100%\"\n",
       "            height=\"900\"\n",
       "            src=\"http://hepdata.cedar.ac.uk/pdf/pdf3.html\"\n",
       "            frameborder=\"0\"\n",
       "            allowfullscreen\n",
       "        ></iframe>\n",
       "        "
      ],
      "text/plain": [
       "<IPython.lib.display.IFrame at 0x108f9d908>"
      ]
     },
     "execution_count": 16,
     "metadata": {},
     "output_type": "execute_result"
    }
   ],
   "source": [
    "link_pdf = \"http://hepdata.cedar.ac.uk/pdf/pdf3.html\"\n",
    "plot(link_pdf, height=900)"
   ]
  },
  {
   "cell_type": "code",
   "execution_count": null,
   "metadata": {},
   "outputs": [],
   "source": []
  }
 ],
 "metadata": {
  "kernelspec": {
   "display_name": "Python 3",
   "language": "python",
   "name": "python3"
  },
  "language_info": {
   "codemirror_mode": {
    "name": "ipython",
    "version": 3
   },
   "file_extension": ".py",
   "mimetype": "text/x-python",
   "name": "python",
   "nbconvert_exporter": "python",
   "pygments_lexer": "ipython3",
   "version": "3.7.3"
  }
 },
 "nbformat": 4,
 "nbformat_minor": 2
}
